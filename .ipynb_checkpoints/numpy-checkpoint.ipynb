{
 "cells": [
  {
   "cell_type": "markdown",
   "metadata": {},
   "source": [
    "# Numpy is a python library used for working with arrays."
   ]
  },
  {
   "cell_type": "code",
   "execution_count": 1,
   "metadata": {},
   "outputs": [],
   "source": [
    "import numpy as np"
   ]
  },
  {
   "cell_type": "code",
   "execution_count": 7,
   "metadata": {},
   "outputs": [
    {
     "name": "stdout",
     "output_type": "stream",
     "text": [
      "[ 2  1  4  6  3 12  5  7]\n"
     ]
    }
   ],
   "source": [
    "l = [2,1,4,6,3,12,5,7]\n",
    "arr = np.array(l)        #Array is created using numpy array function\n",
    "print(arr)"
   ]
  },
  {
   "cell_type": "code",
   "execution_count": 6,
   "metadata": {},
   "outputs": [
    {
     "name": "stdout",
     "output_type": "stream",
     "text": [
      "int64\n"
     ]
    }
   ],
   "source": [
    "print(arr.dtype)         #dtype specifies the type of the array"
   ]
  },
  {
   "cell_type": "code",
   "execution_count": 10,
   "metadata": {},
   "outputs": [
    {
     "name": "stdout",
     "output_type": "stream",
     "text": [
      "dimension fo the parent arr: 1\n",
      "dimension of the second array:  2\n"
     ]
    }
   ],
   "source": [
    "print(\"dimension fo the parent arr:\",arr.ndim)          #ndim specifies the dimension of the array\n",
    "a=[1,2,3]\n",
    "b=[4,5,6]\n",
    "ar = np.array([a,b])\n",
    "print(\"dimension of the second array: \",ar.ndim)"
   ]
  },
  {
   "cell_type": "code",
   "execution_count": 15,
   "metadata": {},
   "outputs": [
    {
     "name": "stdout",
     "output_type": "stream",
     "text": [
      "[100   1   4   6   3  12   5   7]\n",
      "[100   1   4   6   3  12   5   7]\n",
      "[100   1   4   6   3  12   5   7]\n"
     ]
    }
   ],
   "source": [
    "#Copying an array\n",
    "x = arr.copy()      #in copy() method arrays are copied without any ast referance\n",
    "y = arr.view()      #in view() method arrays are copied with referance to original\n",
    "                    #array so whenever we make a change in y actual array will be changed\n",
    "y[0] =100\n",
    "print(arr)\n",
    "print(x)\n",
    "print(y)"
   ]
  },
  {
   "cell_type": "code",
   "execution_count": 18,
   "metadata": {},
   "outputs": [
    {
     "name": "stdout",
     "output_type": "stream",
     "text": [
      "None\n",
      "None\n",
      "[100   1   4   6   3  12   5   7]\n"
     ]
    }
   ],
   "source": [
    "#base method is used to know wheather the array owns the data or just reference it\n",
    "# it return none if it own its data\n",
    "print(arr.base)\n",
    "print(x.base)\n",
    "print(y.base)"
   ]
  },
  {
   "cell_type": "code",
   "execution_count": 20,
   "metadata": {},
   "outputs": [
    {
     "name": "stdout",
     "output_type": "stream",
     "text": [
      "(2, 3)\n"
     ]
    }
   ],
   "source": [
    "# finding the shape of array using shape method\n",
    "# shape actually represent nxm\n",
    "print(ar.shape)"
   ]
  },
  {
   "cell_type": "markdown",
   "metadata": {},
   "source": [
    "# Reshaping the array \n"
   ]
  },
  {
   "cell_type": "code",
   "execution_count": 31,
   "metadata": {
    "scrolled": true
   },
   "outputs": [
    {
     "name": "stdout",
     "output_type": "stream",
     "text": [
      "[[1 2 3]\n",
      " [4 5 6]\n",
      " [7 8 9]]\n",
      "[1 2 3 4 5 6 7 8 9]\n",
      "Array is not posiibl with config of 3x4\n"
     ]
    }
   ],
   "source": [
    "#reshaping actually changes the array into a different dimensional array\n",
    "arr = np.array([1,2,3,4,5,6,7,8,9])\n",
    "reshaped_arr = arr.reshape(3,3)  #if we try to make a shape of array that is not posiible then it will give error\n",
    "print(reshaped_arr)\n",
    "print(reshaped_arr.base)  # this array is a referenced array which means if any value is altered actual array will\n",
    "                          #get altered\n",
    "try:\n",
    "    r_array = arr.reshape(3,4)\n",
    "except:\n",
    "    print(\"Array is not possible with config of 3x4\")"
   ]
  },
  {
   "cell_type": "markdown",
   "metadata": {},
   "source": [
    "# Iterating in numpy arrays"
   ]
  },
  {
   "cell_type": "code",
   "execution_count": 32,
   "metadata": {},
   "outputs": [
    {
     "name": "stdout",
     "output_type": "stream",
     "text": [
      "array dimension 3\n",
      "1\n",
      "2\n",
      "3\n",
      "4\n",
      "5\n",
      "6\n",
      "7\n",
      "8\n"
     ]
    }
   ],
   "source": [
    "#Iterating a array who dimension is big can be done easily using the nditer()\n",
    "arr = np.array([[[1, 2], [3, 4]], [[5, 6], [7, 8]]])  #a 3d array\n",
    "print(\"array dimension\",arr.ndim)\n",
    "\n",
    "for x in np.nditer(arr):\n",
    "  print(x)"
   ]
  },
  {
   "cell_type": "code",
   "execution_count": 34,
   "metadata": {},
   "outputs": [
    {
     "name": "stdout",
     "output_type": "stream",
     "text": [
      "b'1'\n",
      "b'2'\n",
      "b'3'\n",
      "b'4'\n",
      "b'5'\n",
      "b'6'\n",
      "b'7'\n",
      "b'8'\n"
     ]
    }
   ],
   "source": [
    "# op_dtypes argument can be passed in array while iterating.It is helpul as it changes the data\n",
    "# type of the element while iterating\n",
    "for x in np.nditer(arr,flags=['buffered'], op_dtypes=['S']):\n",
    "    print(x)"
   ]
  },
  {
   "cell_type": "code",
   "execution_count": 37,
   "metadata": {},
   "outputs": [
    {
     "name": "stdout",
     "output_type": "stream",
     "text": [
      "Index  (0, 0, 0)  has Value:  1\n",
      "Index  (0, 0, 1)  has Value:  2\n",
      "Index  (0, 1, 0)  has Value:  3\n",
      "Index  (0, 1, 1)  has Value:  4\n",
      "Index  (1, 0, 0)  has Value:  5\n",
      "Index  (1, 0, 1)  has Value:  6\n",
      "Index  (1, 1, 0)  has Value:  7\n",
      "Index  (1, 1, 1)  has Value:  8\n"
     ]
    }
   ],
   "source": [
    "# we can use ndenumerate() in order to mention index number one by one\n",
    "for i,x in np.ndenumerate(arr):\n",
    "    print(\"Index \",i,\" has Value: \",x)"
   ]
  },
  {
   "cell_type": "code",
   "execution_count": null,
   "metadata": {},
   "outputs": [],
   "source": []
  }
 ],
 "metadata": {
  "kernelspec": {
   "display_name": "Python 3",
   "language": "python",
   "name": "python3"
  },
  "language_info": {
   "codemirror_mode": {
    "name": "ipython",
    "version": 3
   },
   "file_extension": ".py",
   "mimetype": "text/x-python",
   "name": "python",
   "nbconvert_exporter": "python",
   "pygments_lexer": "ipython3",
   "version": "3.8.5"
  }
 },
 "nbformat": 4,
 "nbformat_minor": 4
}
