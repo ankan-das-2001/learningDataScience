{
  "nbformat": 4,
  "nbformat_minor": 0,
  "metadata": {
    "colab": {
      "name": "tensorflowBeginning.ipynb",
      "provenance": [],
      "authorship_tag": "ABX9TyNek/z9r4lC0hb16OzeFbbT",
      "include_colab_link": true
    },
    "kernelspec": {
      "name": "python3",
      "display_name": "Python 3"
    },
    "language_info": {
      "name": "python"
    }
  },
  "cells": [
    {
      "cell_type": "markdown",
      "metadata": {
        "id": "view-in-github",
        "colab_type": "text"
      },
      "source": [
        "<a href=\"https://colab.research.google.com/github/ankan-das-2001/learningDataScience/blob/master/tensorflowBeginning.ipynb\" target=\"_parent\"><img src=\"https://colab.research.google.com/assets/colab-badge.svg\" alt=\"Open In Colab\"/></a>"
      ]
    },
    {
      "cell_type": "code",
      "metadata": {
        "id": "LNptpgqH9HdE"
      },
      "source": [
        "# imports\n",
        "import tensorflow as tf \n",
        "from tensorflow import keras\n",
        "\n",
        "# Helper libraries\n",
        "import numpy as np\n",
        "import matplotlib.pyplot as plt\n"
      ],
      "execution_count": 25,
      "outputs": []
    },
    {
      "cell_type": "code",
      "metadata": {
        "id": "gGGG7rspBOYZ"
      },
      "source": [
        "# Dataset is about MNIST fashion dataset which includes 60,000 images for training and 10,000 for testing\n",
        "fashion_mnist=keras.datasets.fashion_mnist    # load dataset\n",
        "(train_images, train_labels), (test_images,test_labels) = fashion_mnist.load_data()       #spilt into testing and training"
      ],
      "execution_count": 26,
      "outputs": []
    },
    {
      "cell_type": "code",
      "metadata": {
        "colab": {
          "base_uri": "https://localhost:8080/"
        },
        "id": "kibdXRlUCBjw",
        "outputId": "7a703245-a356-4290-9e2f-1ea660774a74"
      },
      "source": [
        "print(train_images.shape)\n",
        "print(test_images.shape)"
      ],
      "execution_count": 27,
      "outputs": [
        {
          "output_type": "stream",
          "text": [
            "(60000, 28, 28)\n",
            "(10000, 28, 28)\n"
          ],
          "name": "stdout"
        }
      ]
    },
    {
      "cell_type": "code",
      "metadata": {
        "colab": {
          "base_uri": "https://localhost:8080/"
        },
        "id": "6g9mxEuxCRrL",
        "outputId": "6938ce12-b3a3-4d91-8368-18dc4438e0d8"
      },
      "source": [
        "# So we have got 60,000 images that are made up of 28x28 pixel(784 total)\n",
        "train_images[0,23,23]\n",
        "train_labels[:10]"
      ],
      "execution_count": 28,
      "outputs": [
        {
          "output_type": "execute_result",
          "data": {
            "text/plain": [
              "array([9, 0, 0, 3, 0, 2, 7, 2, 5, 5], dtype=uint8)"
            ]
          },
          "metadata": {
            "tags": []
          },
          "execution_count": 28
        }
      ]
    },
    {
      "cell_type": "code",
      "metadata": {
        "id": "64W1GoTZCk2a"
      },
      "source": [
        "# our pixel values are between 0 and 255, 0 being black and 255 as white    \n",
        "class_name = ['T-shirt/top','Trouser','Pullover','Dress','Coat','Sandal','Shirt','Sneaker','Bag','Ankle boot']"
      ],
      "execution_count": 29,
      "outputs": []
    },
    {
      "cell_type": "code",
      "metadata": {
        "colab": {
          "base_uri": "https://localhost:8080/",
          "height": 265
        },
        "id": "2Nmd-rvjDbqr",
        "outputId": "da312688-15ee-4a0d-e213-da54d6770ffb"
      },
      "source": [
        "plt.figure() \n",
        "plt.imshow(train_images[76])\n",
        "plt.colorbar()\n",
        "plt.grid(False)\n",
        "plt.show()"
      ],
      "execution_count": 30,
      "outputs": [
        {
          "output_type": "display_data",
          "data": {
            "image/png": "[encoded data removed]",
            "text/plain": [
              "<Figure size 432x288 with 2 Axes>"
            ]
          },
          "metadata": {
            "tags": [],
            "needs_background": "light"
          }
        }
      ]
    },
    {
      "cell_type": "code",
      "metadata": {
        "id": "aJ53AgNNDuPs"
      },
      "source": [
        "train_images = train_images/255.0\n",
        "\n",
        "test_images = test_images/255.0"
      ],
      "execution_count": 31,
      "outputs": []
    },
    {
      "cell_type": "code",
      "metadata": {
        "id": "sxpdJ0HPFCV6"
      },
      "source": [
        "model = keras.Sequential([\n",
        "                         keras.layers.Flatten(input_shape=(28,28)),       # input layer(1)\n",
        "                         keras.layers.Dense(128,activation=\"relu\"),      # hidden layer (2)\n",
        "                         keras.layers.Dense(10,activation=\"softmax\")      # output layer (3)\n",
        "])"
      ],
      "execution_count": 32,
      "outputs": []
    },
    {
      "cell_type": "code",
      "metadata": {
        "id": "0y6jAXxvF706"
      },
      "source": [
        "model.compile(optimizer = 'adam',\n",
        "              loss = 'sparse_categorical_crossentropy',\n",
        "              metrics=['accuracy'])       # hyperparamete means all this loss metric, activation function"
      ],
      "execution_count": 33,
      "outputs": []
    },
    {
      "cell_type": "code",
      "metadata": {
        "colab": {
          "base_uri": "https://localhost:8080/"
        },
        "id": "VUZXn8kRGuyC",
        "outputId": "8c53f5a8-81b5-4ad5-a6fc-5f995f2bdaa4"
      },
      "source": [
        "model.fit(train_images,train_labels,epochs=10)"
      ],
      "execution_count": 41,
      "outputs": [
        {
          "output_type": "stream",
          "text": [
            "Epoch 1/10\n",
            "1875/1875 [==============================] - 4s 2ms/step - loss: 0.3107 - accuracy: 0.8855\n",
            "Epoch 2/10\n",
            "1875/1875 [==============================] - 4s 2ms/step - loss: 0.2923 - accuracy: 0.8928\n",
            "Epoch 3/10\n",
            "1875/1875 [==============================] - 4s 2ms/step - loss: 0.2790 - accuracy: 0.8976\n",
            "Epoch 4/10\n",
            "1875/1875 [==============================] - 4s 2ms/step - loss: 0.2682 - accuracy: 0.9008\n",
            "Epoch 5/10\n",
            "1875/1875 [==============================] - 4s 2ms/step - loss: 0.2568 - accuracy: 0.9050\n",
            "Epoch 6/10\n",
            "1875/1875 [==============================] - 4s 2ms/step - loss: 0.2464 - accuracy: 0.9090\n",
            "Epoch 7/10\n",
            "1875/1875 [==============================] - 4s 2ms/step - loss: 0.2390 - accuracy: 0.9106\n",
            "Epoch 8/10\n",
            "1875/1875 [==============================] - 4s 2ms/step - loss: 0.2324 - accuracy: 0.9131\n",
            "Epoch 9/10\n",
            "1875/1875 [==============================] - 4s 2ms/step - loss: 0.2221 - accuracy: 0.9158\n",
            "Epoch 10/10\n",
            "1875/1875 [==============================] - 4s 2ms/step - loss: 0.2167 - accuracy: 0.9180\n"
          ],
          "name": "stdout"
        },
        {
          "output_type": "execute_result",
          "data": {
            "text/plain": [
              "<tensorflow.python.keras.callbacks.History at 0x7fdea8bbfd90>"
            ]
          },
          "metadata": {
            "tags": []
          },
          "execution_count": 41
        }
      ]
    },
    {
      "cell_type": "code",
      "metadata": {
        "colab": {
          "base_uri": "https://localhost:8080/"
        },
        "id": "T_B2Erg0G1Z7",
        "outputId": "4d90db49-b2b3-41ed-d7a4-d78d97429295"
      },
      "source": [
        "#finding the accuracy\n",
        "test_loss,test_acc = model.evaluate(test_images,test_labels,verbose=1)\n",
        "print('Test accuracy: ',test_acc)"
      ],
      "execution_count": 43,
      "outputs": [
        {
          "output_type": "stream",
          "text": [
            "313/313 [==============================] - 0s 1ms/step - loss: 0.3539 - accuracy: 0.8766\n",
            "Test accuracy:  0.8766000270843506\n"
          ],
          "name": "stdout"
        }
      ]
    },
    {
      "cell_type": "code",
      "metadata": {
        "colab": {
          "base_uri": "https://localhost:8080/"
        },
        "id": "QRmPau7HIu0a",
        "outputId": "eef0d363-0b5c-4148-9989-281cdaaacb28"
      },
      "source": [
        "predictions=model.predict(test_images)\n",
        "print(class_name[np.argmax(predictions[10])])"
      ],
      "execution_count": 51,
      "outputs": [
        {
          "output_type": "stream",
          "text": [
            "Coat\n"
          ],
          "name": "stdout"
        }
      ]
    },
    {
      "cell_type": "code",
      "metadata": {
        "colab": {
          "base_uri": "https://localhost:8080/",
          "height": 269
        },
        "id": "cGrHldWkI4CY",
        "outputId": "18953a32-f405-4991-a221-13bc0819e241"
      },
      "source": [
        "plt.figure()\n",
        "plt.imshow(test_images[10])\n",
        "plt.colorbar()\n",
        "plt.grid(False)\n",
        "plt.show()"
      ],
      "execution_count": 52,
      "outputs": [
        {
          "output_type": "display_data",
          "data": {
            "image/png": "[encoded data removed]",
            "text/plain": [
              "<Figure size 432x288 with 2 Axes>"
            ]
          },
          "metadata": {
            "tags": [],
            "needs_background": "light"
          }
        }
      ]
    },
    {
      "cell_type": "code",
      "metadata": {
        "id": "GoBwHU3eJapm"
      },
      "source": [
        ""
      ],
      "execution_count": null,
      "outputs": []
    }
  ]
}